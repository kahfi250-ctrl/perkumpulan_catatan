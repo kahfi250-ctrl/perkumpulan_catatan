{
  "cells": [
    {
      "cell_type": "markdown",
      "metadata": {
        "id": "view-in-github",
        "colab_type": "text"
      },
      "source": [
        "<a href=\"https://colab.research.google.com/github/kahfi250-ctrl/perkumpulan_catatan/blob/main/Variabel_dan_tipe_data.ipynb\" target=\"_parent\"><img src=\"https://colab.research.google.com/assets/colab-badge.svg\" alt=\"Open In Colab\"/></a>"
      ]
    },
    {
      "cell_type": "markdown",
      "metadata": {
        "id": "uB6GsvGLadLq"
      },
      "source": [
        "# variabel python\n",
        "\n",
        "1. int = untuk mendeklarasikan angka 0-9\n",
        "2. string = untuk mendeklarasikan huruf a-z dan karakter\n",
        "3. float = untuk mendeklarasikan desimal (1,2 1,5)"
      ]
    },
    {
      "cell_type": "code",
      "execution_count": null,
      "metadata": {
        "colab": {
          "base_uri": "https://localhost:8080/"
        },
        "id": "vJrnsgKSa3Wv",
        "outputId": "2c6f8a07-3ce2-4f88-9cf1-c05e5cac68ce"
      },
      "outputs": [
        {
          "output_type": "stream",
          "name": "stdout",
          "text": [
            "12\n",
            "luckystyle\n",
            "10.9\n"
          ]
        }
      ],
      "source": [
        "#contoh 1\n",
        "a = 7\n",
        "b = 5\n",
        "c = a + b\n",
        "print(c)\n",
        "\n",
        "#contoh 2\n",
        "a = \"lucky\"\n",
        "b = \"style\"\n",
        "c = a + b\n",
        "print(c)\n",
        "\n",
        "#contoh 3\n",
        "a = 7.5\n",
        "b = 3.4\n",
        "c = a + b\n",
        "print(c)"
      ]
    },
    {
      "cell_type": "markdown",
      "source": [
        "# Operator artimatika\n",
        "\n",
        "1. penjumlahan = +\n",
        "2. pengurangan = -\n",
        "3. perkalian = *\n",
        "4. pembagian = /\n",
        "5. perpangkatan = ^\n",
        "6. modulus ( persen ) = %"
      ],
      "metadata": {
        "id": "SaraCqN6zTnS"
      }
    },
    {
      "cell_type": "code",
      "source": [
        "# contoh penjumlahan\n",
        "a = 5\n",
        "b = 5\n",
        "c = a + b\n",
        "print(c)\n",
        "\n",
        "# contoh pengurangan\n",
        "a = 5\n",
        "b = 5\n",
        "c = a - b\n",
        "print(c)\n",
        "\n",
        "# contoh perkalian\n",
        "a = 5\n",
        "b = 5\n",
        "c = a * b\n",
        "print(c)\n",
        "\n",
        "# contoh pembagian\n",
        "a = 5\n",
        "b = 5\n",
        "c = a / b\n",
        "print(c)\n",
        "\n",
        "# contoh perpangkatan\n",
        "a = 5\n",
        "b = 5\n",
        "c = a ** b\n",
        "print(c)\n",
        "\n",
        "# contoh modulus\n",
        "a = 5\n",
        "b = 5\n",
        "c = a % b\n",
        "print(c)\n",
        "\n"
      ],
      "metadata": {
        "colab": {
          "base_uri": "https://localhost:8080/"
        },
        "id": "0Mk6yYqa0CRw",
        "outputId": "f61f5ebb-28a5-462d-cb99-369a42916887"
      },
      "execution_count": null,
      "outputs": [
        {
          "output_type": "stream",
          "name": "stdout",
          "text": [
            "10\n",
            "0\n",
            "25\n",
            "1.0\n",
            "3125\n",
            "0\n"
          ]
        }
      ]
    },
    {
      "cell_type": "markdown",
      "source": [
        "# Operator Perbandingan\n",
        "\n",
        "1. lebih besar : > ( >70 = 71-100 )\n",
        "2. lebih kecil : < ( <70 = 69-100 )\n",
        "3. lebih besar = : >= ( >=70 = 70-100 )\n",
        "4. lebih kecil = : <= ( <=70 = 70-0 )\n",
        "5. tidak sama dengan : != ( jelek != ganteng )\n",
        "6. sama dengan sama : == ( ganteng == ganteng )\n",
        "jika jawabannya benar maka akan tertampil \" True \" maka jika salah maka akan tampil \" False \""
      ],
      "metadata": {
        "id": "Qi2fM5yE1MpJ"
      }
    },
    {
      "cell_type": "code",
      "source": [
        "# lebih besar\n",
        "a = 70\n",
        "b = 7\n",
        "c = a > b\n",
        "print(c)\n",
        "\n",
        "# lebih kecil\n",
        "a = 7\n",
        "b = 70\n",
        "c = a < b\n",
        "print(c)\n",
        "\n",
        "# lebih besar sama dengan\n",
        "a = 70\n",
        "b = 7\n",
        "c = a >= b\n",
        "print(c)\n",
        "\n",
        "# lebih kecil sama dengan\n",
        "a = 60\n",
        "b = 100\n",
        "c = a <= b\n",
        "print(c)\n",
        "\n",
        "# tidak sama dengan\n",
        "a = \"jelek\"\n",
        "b = \"ganteng\"\n",
        "c = a != b\n",
        "print(c)\n",
        "\n",
        "# sama dengan\n",
        "a = \"ganteng\"\n",
        "b = \"ganteng\"\n",
        "c = a == b\n",
        "print(c)"
      ],
      "metadata": {
        "colab": {
          "base_uri": "https://localhost:8080/"
        },
        "id": "LRAt2f54z9pn",
        "outputId": "b5c9c4f1-2a13-42a1-8f5a-8039f5817012"
      },
      "execution_count": 5,
      "outputs": [
        {
          "output_type": "stream",
          "name": "stdout",
          "text": [
            "True\n",
            "True\n",
            "True\n",
            "True\n",
            "True\n",
            "True\n"
          ]
        }
      ]
    },
    {
      "cell_type": "markdown",
      "source": [
        "# contoh dari operator aritmatika dan operator perbandingan"
      ],
      "metadata": {
        "id": "znOW9o0F0swJ"
      }
    },
    {
      "cell_type": "code",
      "source": [
        "# contoh operator aritmatika (+)\n",
        "a = 45\n",
        "b = 98\n",
        "c = a + b\n",
        "print(c)\n",
        "\n",
        "# contoh operator aritmatika (-)\n",
        "a = 45\n",
        "b = 98\n",
        "c = a - b\n",
        "print(c)\n",
        "\n",
        "# contoh operator aritmatika (*)\n",
        "a = 45\n",
        "b = 10\n",
        "c = a * b\n",
        "print(c)\n",
        "\n",
        "# contoh operator aritmatika (/)\n",
        "a = 25\n",
        "b = 5\n",
        "c = a / b\n",
        "print(c)\n",
        "\n",
        "# contoh operator aritmatika  (**)\n",
        "a = 5\n",
        "b = 5\n",
        "c = a ** b\n",
        "print(c)\n",
        "\n",
        "# contoh operator aritmatika (%)\n",
        "a = 5\n",
        "b = 15\n",
        "c = a % b\n",
        "print(c)\n",
        "# contoh operator perbandingan (>)\n",
        "a = 70\n",
        "b = 7\n",
        "c = a > b\n",
        "print(c)\n",
        "\n",
        "# contoh operator perbandingan (<)\n",
        "a = 7\n",
        "b = 70\n",
        "c = a < b\n",
        "print(c)\n",
        "\n",
        "# contoh operator perbandingan (>=)\n",
        "a = 70\n",
        "b = 7\n",
        "c = a >= b\n",
        "print(c)\n",
        "\n",
        "# contoh operator perbandingan (<=)\n",
        "a = 60\n",
        "b = 100\n",
        "c = a <= b\n",
        "print(c)\n",
        "\n",
        "# contoh operator perbandingan (!=)\n",
        "a = \"jelek\"\n",
        "b = \"ganteng\"\n",
        "c = a != b\n",
        "print(c)\n",
        "\n",
        "# contoh operator perbandingan (==)\n",
        "a = \"ganteng\"\n",
        "b = \"ganteng\"\n",
        "c = a == b\n",
        "print(c)"
      ],
      "metadata": {
        "colab": {
          "base_uri": "https://localhost:8080/"
        },
        "id": "IXxw7ov-01Vd",
        "outputId": "cd263bce-4a42-496a-b77b-65a289221e14"
      },
      "execution_count": 12,
      "outputs": [
        {
          "output_type": "stream",
          "name": "stdout",
          "text": [
            "143\n",
            "-53\n",
            "450\n",
            "5.0\n",
            "3125\n",
            "5\n",
            "True\n",
            "True\n",
            "True\n",
            "True\n",
            "True\n",
            "True\n"
          ]
        }
      ]
    }
  ],
  "metadata": {
    "colab": {
      "provenance": [],
      "authorship_tag": "ABX9TyMz2srTdCuQ58KOlSZJ4oWA",
      "include_colab_link": true
    },
    "kernelspec": {
      "display_name": "Python 3",
      "name": "python3"
    },
    "language_info": {
      "name": "python"
    }
  },
  "nbformat": 4,
  "nbformat_minor": 0
}