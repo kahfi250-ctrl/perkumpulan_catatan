{
  "nbformat": 4,
  "nbformat_minor": 0,
  "metadata": {
    "colab": {
      "provenance": [],
      "authorship_tag": "ABX9TyNms8pDH/dKbAJuVRLW0wyP"
    },
    "kernelspec": {
      "name": "python3",
      "display_name": "Python 3"
    },
    "language_info": {
      "name": "python"
    }
  },
  "cells": [
    {
      "cell_type": "markdown",
      "source": [
        "# A. Penentuan Diskon Berdasarkan Jumlah Pembelian\n",
        "Sebuah toko memberikan diskon kepada pelanggan berdasarkan jumlah pembelian mereka. Aturan diskon adalah sebagai berikut:\\\n",
        "- Pembelian di bawah Rp100.000 tidak mendapat diskon.\n",
        "- Pembelian antara Rp100.000 - Rp500.000 mendapat diskon 10%.\n",
        "- Pembelian di atas Rp500.000 mendapat diskon 20%."
      ],
      "metadata": {
        "id": "wOIARWIyVvUA"
      }
    },
    {
      "cell_type": "markdown",
      "source": [
        "a. Untuk membuat penentuan diskon berdasarkan jumlah harga pembelian, kita menggunakan if, elif, dan else untuk melakukan percabangan agar dapat logikakan diskon yang akan didapat pembeli"
      ],
      "metadata": {
        "id": "bJDteegsWAs6"
      }
    },
    {
      "cell_type": "code",
      "execution_count": 6,
      "metadata": {
        "colab": {
          "base_uri": "https://localhost:8080/"
        },
        "id": "P5x1DGBZVrfA",
        "outputId": "98476a84-b856-4e74-81c9-3fb347bbbcf9"
      },
      "outputs": [
        {
          "output_type": "stream",
          "name": "stdout",
          "text": [
            "Masukkan harga barang1: 200000\n",
            "Masukkan harga barang2: 300000\n",
            "Masukkan harga barang3: 1000000\n",
            "Barang 1 diskon 10%\n",
            "Barang 2 diskon 10%\n",
            "Barang {1000000} diskon 20%\n"
          ]
        }
      ],
      "source": [
        "# A\n",
        "harga_pembelian_barang1 = int(input(\"Masukkan harga barang1: \"))\n",
        "harga_pembelian_barang2 = int(input(\"Masukkan harga barang2: \"))\n",
        "harga_pembelian_barang3 = int(input(\"Masukkan harga barang3: \"))\n",
        "nilai_Tertinggi_harga = max(harga_pembelian_barang1, harga_pembelian_barang2, harga_pembelian_barang3)\n",
        "if harga_pembelian_barang1 < 100000:\n",
        "  print(\"Barang 1 tidak mendapat diskon\")\n",
        "elif harga_pembelian_barang1 <=500000: # dengan menggunakan ( <= yang artinya lebih kecil sama dengan ) berarti 500000 sampai 0, kita dapat menentukan dapat atau tidaknya diskon\n",
        "  print(\"Barang 1 diskon 10%\")\n",
        "if harga_pembelian_barang2 < 100000:\n",
        "  print(\"Barang 2 tidak mendapat diskon\")\n",
        "elif harga_pembelian_barang2 <=500000:\n",
        "  print(\"Barang 2 diskon 10%\")\n",
        "if harga_pembelian_barang3 < 100000:\n",
        "  print(\"Barang 3 tidak mendapat diskon\")\n",
        "elif harga_pembelian_barang3 <=500000:\n",
        "  print(\"Barang 3 diskon 10%\")\n",
        "else:\n",
        "  print(\"Barang\",{nilai_Tertinggi_harga}, \"diskon 20%\")"
      ]
    },
    {
      "cell_type": "markdown",
      "source": [
        "# Klasifikasi Umur\n",
        "Anda diminta membuat program untuk mengelompokkan seseorang berdasarkan umur. Aturannya:\\\n",
        "- Umur 0-12 tahun: Anak-anak\n",
        "- Umur 13-17 tahun: Remaja\n",
        "- Umur 18-64 tahun: Dewasa\n",
        "- Umur 65 tahun ke atas: Lansia"
      ],
      "metadata": {
        "id": "S74yTtA0Y4az"
      }
    },
    {
      "cell_type": "markdown",
      "source": [
        "b. Untuk membuat sesuatu pengklasifikasian suatu umur, kita tetap akan menggunakan percabangan untuk mencari suatu value yang bernilai setelah di logikakan"
      ],
      "metadata": {
        "id": "_iRxa7nPZCFx"
      }
    },
    {
      "cell_type": "code",
      "source": [
        "# B\n",
        "umur_1 = int(input(\"Masukkan umur orang 1: \"))\n",
        "umur_2 = int(input(\"Masukkan umur orang 2: \"))\n",
        "umur_3 = int(input(\"Masukkan umur orang 3: \"))\n",
        "umur_4 = int(input(\"Masukkan umur orang 4: \"))\n",
        "umur_tertinggi = max(umur_1, umur_2, umur_3, umur_4)\n",
        "if umur_1 <=12:\n",
        "  print(\"orang 1 adalah Anak-anak\")\n",
        "elif umur_1 <=17:\n",
        "  print(\"orang 1 adalah Remaja\")\n",
        "elif umur_1 <=64:\n",
        "  print(\"orang 1 adalah Dewasa\")\n",
        "if umur_2 <=12:\n",
        "  print(\"orang 2 adalah Anak-anak\")\n",
        "elif umur_2 <=17:\n",
        "  print(\"orang 2 adalah Remaja\")\n",
        "elif umur_2 <=64:\n",
        "  print(\"orang 2 adalah Dewasa\")\n",
        "if umur_3 <=12:\n",
        "  print(\"orang 3 adalah Anak-anak\")\n",
        "elif umur_3 <=17:\n",
        "  print(\"orang 3 adalah Remaja\")\n",
        "elif umur_3 <=64:\n",
        "  print(\"orang 3 adalah Dewasa\")\n",
        "if umur_4 <=12:\n",
        "  print(\"orang 4 adalah Anak-anak\")\n",
        "elif umur_4 <=17:\n",
        "  print(\"orang 4 adalah Remaja\")\n",
        "elif umur_4 <=64:\n",
        "  print(\"orang 4 adalah Dewasa\")\n",
        "else:3\n",
        "  print(\"umur\",{umur_tertinggi} ,\"termasuk Lansia\")"
      ],
      "metadata": {
        "colab": {
          "base_uri": "https://localhost:8080/"
        },
        "id": "lJ41PHgUZSRY",
        "outputId": "164fa932-99c5-44b9-d852-aceca944c17c"
      },
      "execution_count": 11,
      "outputs": [
        {
          "output_type": "stream",
          "name": "stdout",
          "text": [
            "Masukkan umur orang 1: 12\n",
            "Masukkan umur orang 2: 43\n",
            "Masukkan umur orang 3: 54\n",
            "Masukkan umur orang 4: 67\n",
            "orang 1 adalah Anak-anak\n",
            "orang 2 adalah Dewasa\n",
            "orang 3 adalah Dewasa\n",
            "umur {67} termasuk Lansia\n"
          ]
        }
      ]
    }
  ]
}